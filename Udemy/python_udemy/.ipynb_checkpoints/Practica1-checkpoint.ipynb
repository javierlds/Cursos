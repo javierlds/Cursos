{
 "cells": [
  {
   "cell_type": "code",
   "execution_count": 5,
   "id": "e53912da",
   "metadata": {},
   "outputs": [
    {
     "data": {
      "text/plain": [
       "15"
      ]
     },
     "execution_count": 5,
     "metadata": {},
     "output_type": "execute_result"
    }
   ],
   "source": [
    "variable = 10\n",
    "variable2 = variable + 5\n",
    "variable2"
   ]
  },
  {
   "cell_type": "code",
   "execution_count": 6,
   "id": "789c2a18",
   "metadata": {},
   "outputs": [
    {
     "data": {
      "text/plain": [
       "'Javier Paez'"
      ]
     },
     "execution_count": 6,
     "metadata": {},
     "output_type": "execute_result"
    }
   ],
   "source": [
    "#Cadena de caracteres\n",
    "'Javier Paez'"
   ]
  },
  {
   "cell_type": "code",
   "execution_count": 8,
   "id": "9a823d47",
   "metadata": {},
   "outputs": [],
   "source": [
    "stre = \"Texto de ejemplos\""
   ]
  },
  {
   "cell_type": "code",
   "execution_count": 9,
   "id": "9cbc9d9f",
   "metadata": {},
   "outputs": [
    {
     "data": {
      "text/plain": [
       "str"
      ]
     },
     "execution_count": 9,
     "metadata": {},
     "output_type": "execute_result"
    }
   ],
   "source": [
    "#para saber el tipo del texto\n",
    "type(stre)"
   ]
  }
 ],
 "metadata": {
  "kernelspec": {
   "display_name": "Python 3",
   "language": "python",
   "name": "python3"
  },
  "language_info": {
   "codemirror_mode": {
    "name": "ipython",
    "version": 3
   },
   "file_extension": ".py",
   "mimetype": "text/x-python",
   "name": "python",
   "nbconvert_exporter": "python",
   "pygments_lexer": "ipython3",
   "version": "3.8.8"
  }
 },
 "nbformat": 4,
 "nbformat_minor": 5
}
